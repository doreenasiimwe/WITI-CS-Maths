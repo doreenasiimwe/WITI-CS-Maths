{
 "cells": [
  {
   "cell_type": "markdown",
   "id": "fdf4749e",
   "metadata": {},
   "source": [
    "## TEST Preamble:\n",
    "\n",
    "This test assignment, has two sections *Probability Theory & Linear Algebra*, Probability is the mathematical field that enables us to quantify uncertainty as well as to make predictions despite uncertainty. While *Linear Algebra is basically Matrix and Vector Operations*, that builds on the basics of linear algebra as learned in theory. \n"
   ]
  },
  {
   "cell_type": "markdown",
   "id": "7f65e89d",
   "metadata": {},
   "source": [
    "## Instructions\n",
    "\n",
    "* Your are to free to setup your own Jupyter Notebook, and supply all the answers to the questions inthere or work from the one I have provided.\n",
    "* Attempt all questions in **Section 1** and **At least 4** from **Section 2**, and as many as you can from the last section **optional Section**"
   ]
  },
  {
   "cell_type": "markdown",
   "id": "3cce027d",
   "metadata": {},
   "source": [
    "## By Assessing the context and questions in this test assignment"
   ]
  },
  {
   "cell_type": "markdown",
   "id": "32d1d308",
   "metadata": {},
   "source": [
    "Import all the relevant libraries you may need in the course of this assignment"
   ]
  },
  {
   "cell_type": "code",
   "execution_count": null,
   "id": "0d400224",
   "metadata": {},
   "outputs": [],
   "source": [
    "# import all the neccessary libraries needed (Max 2.5 marks allowed)"
   ]
  },
  {
   "cell_type": "code",
   "execution_count": 1,
   "id": "678b05ff",
   "metadata": {},
   "outputs": [],
   "source": [
    "import numpy as np"
   ]
  },
  {
   "cell_type": "code",
   "execution_count": 2,
   "id": "8e62aff4",
   "metadata": {},
   "outputs": [],
   "source": [
    "import matplotlib.pyplot as plt"
   ]
  },
  {
   "cell_type": "markdown",
   "id": "331968bd",
   "metadata": {},
   "source": [
    "## Section 1: Introduction to Probability"
   ]
  },
  {
   "cell_type": "markdown",
   "id": "cbc5b95b",
   "metadata": {},
   "source": [
    "### What Probability Theory Is! "
   ]
  },
  {
   "cell_type": "markdown",
   "id": "033f2579",
   "metadata": {},
   "source": [
    "### Here below is a quick review of probability and Combinatorial. Go through carefully and pick a leaf to answer the questions at the end"
   ]
  },
  {
   "cell_type": "markdown",
   "id": "9f8c7b7c",
   "metadata": {},
   "source": [
    "#### Events and Sample Spaces"
   ]
  },
  {
   "cell_type": "markdown",
   "id": "4eac3dee",
   "metadata": {},
   "source": [
    "Let's assume we have a fair coin, which is equally likely to come up heads (H) or tails (T)."
   ]
  },
  {
   "cell_type": "markdown",
   "id": "9cb67e60",
   "metadata": {},
   "source": [
    "In instances like this, where the two outcomes are equally likely, we can use probability theory to express the likelihood of a particular **event** by comparing it with the **sample space** (the set of all possible outcomes; can be denoted as $\\Omega$): "
   ]
  },
  {
   "cell_type": "markdown",
   "id": "c5332bd2",
   "metadata": {},
   "source": [
    "$$ P(\\text{event}) = \\frac{\\text{# of outcomes of event}}{\\text{# of outcomes in }\\Omega} $$"
   ]
  },
  {
   "cell_type": "markdown",
   "id": "78943c65",
   "metadata": {},
   "source": [
    "If we're only flipping the coin once, then there are only two possible outcomes in the sample space $\\Omega$: it will either be H or T (using set notation, we could write this as $\\Omega$ = {H, T})."
   ]
  },
  {
   "cell_type": "markdown",
   "id": "b786fd87",
   "metadata": {},
   "source": [
    "Therefore: $$ P(H) = \\frac{1}{2} = 0.5 $$"
   ]
  },
  {
   "cell_type": "markdown",
   "id": "725833cc",
   "metadata": {},
   "source": [
    "Equally: $$ P(T) = \\frac{1}{2} = 0.5 $$"
   ]
  },
  {
   "cell_type": "markdown",
   "id": "cb2c8415",
   "metadata": {},
   "source": [
    "As a separate example, consider drawing a single card from a standard deck of 52 playing cards. In this case, the number of possible outcomes in the sample space $\\Omega$ is 52. "
   ]
  },
  {
   "cell_type": "markdown",
   "id": "56ead33e",
   "metadata": {},
   "source": [
    "There is only one ace of spades in the deck, so the probability of drawing it is: $$ P(\\text{ace of spades}) = \\frac{1}{52} \\approx 0.019 $$"
   ]
  },
  {
   "cell_type": "markdown",
   "id": "1b4b52a5",
   "metadata": {},
   "source": [
    "In contrast there are four aces, so the probability of drawing an ace is: $$ P(\\text{ace}) = \\frac{4}{52} \\approx 0.077 $$"
   ]
  },
  {
   "cell_type": "markdown",
   "id": "720fe7d5",
   "metadata": {},
   "source": [
    "Some additional examples: \n",
    "$$ P(\\text{spade}) = \\frac{13}{52} = 0.25 $$\n",
    "$$ P(\\text{ace OR spade}) = \\frac{16}{52} \\approx 0.307 $$\n",
    "$$ P(\\text{card}) = \\frac{52}{52} = 1 $$\n",
    "$$ P(\\text{turnip}) = \\frac{0}{52} = 0 $$"
   ]
  },
  {
   "cell_type": "markdown",
   "id": "81c4a306",
   "metadata": {},
   "source": [
    "#### Multiple Independent Observations"
   ]
  },
  {
   "cell_type": "markdown",
   "id": "fba9c9d9",
   "metadata": {},
   "source": [
    "Let's return to coin flipping to illustrate situations where we have an event consisting of multiple independent observations. For example, the probability of throwing two consecutive heads is: $$ P(\\text{HH}) = \\frac{1}{4} = 0.25 $$ ...because there is one HH event in the sample set of four possible events ($\\Omega$ = {HH, HT, TH, TT})."
   ]
  },
  {
   "cell_type": "markdown",
   "id": "d07bb2bf",
   "metadata": {},
   "source": [
    "Likewise, the probability of throwing *three* consecutive heads is: $$ P(\\text{HHH}) = \\frac{1}{8} = 0.125 $$ ...because there is one HHH event in the sample set of eight possible events ($\\Omega$ = {HHH, HHT, HTH, THH, HTT, THT, TTH, TTT})."
   ]
  },
  {
   "cell_type": "markdown",
   "id": "ff63365e",
   "metadata": {},
   "source": [
    "As final examples, the probability of throwing exactly two heads in three tosses is $ P = \\frac{3}{8} = 0.375 $ while the probability of throwing at least two heads in three tosses is $ P = \\frac{4}{8} = 0.5 $."
   ]
  },
  {
   "cell_type": "markdown",
   "id": "4bff124b",
   "metadata": {},
   "source": [
    "#### Combining Probabilities"
   ]
  },
  {
   "cell_type": "markdown",
   "id": "5361b160",
   "metadata": {},
   "source": [
    "In order to combine probabilities, we can multiply them. So the probability of throwing five consecutive heads, for example, is the product of probabilities we've already calculated: $$ P(\\text{HHHHH}) = P(\\text{HH}) \\times P(\\text{HHH}) = \\frac{1}{4} \\times \\frac{1}{8} = \\frac{1}{32} \\approx 0.031 $$"
   ]
  },
  {
   "cell_type": "markdown",
   "id": "b7b3cd28",
   "metadata": {},
   "source": [
    "#### Combinatorics"
   ]
  },
  {
   "cell_type": "markdown",
   "id": "fb4596aa",
   "metadata": {},
   "source": [
    "*Combinatorics* is a field of mathematics devoted to counting that can be helpful to studying probabilities. We can use **factorials** (e.g., $4! = 4 \\times 3 \\times 2 \\times 1 = 24$), which feature prominently in combinatorics, to calculate probabilities instead of painstakingly determining all of the members of the sample space $\\Omega$ and counting subsets within $\\Omega$. "
   ]
  },
  {
   "cell_type": "markdown",
   "id": "d2cb1b7a",
   "metadata": {},
   "source": [
    "More specifically, we can calculate the number of outcomes of an event using the \"number of combinations\" equation: $$ {n \\choose k} = \\frac{n!}{k!(n - k)!} $$"
   ]
  },
  {
   "cell_type": "markdown",
   "id": "5feaf74b",
   "metadata": {},
   "source": [
    "The left-hand side of the equation is read \"$n$ choose $k$\" and is most quickly understood via an example: If we have three coin flips, $n = 3$, and if we're interested in the number of ways to get two head flips (or two tail flips, for that matter), $k = 2$. We would read this as \"3 choose 2\" and calculate it as:\n",
    "$$ {n \\choose k} = {3 \\choose 2} = \\frac{3!}{2!(3 - 2)!} = \\frac{3!}{(2!)(1!)} = \\frac{3 \\times 2 \\times 1}{(2 \\times 1)(1)} = \\frac{6}{(2)(1)} = \\frac{6}{2} = 3 $$"
   ]
  },
  {
   "cell_type": "markdown",
   "id": "f992ea9a",
   "metadata": {},
   "source": [
    "This provide us with the numerator for event-probability equation from above: $$ P(\\text{event}) = \\frac{\\text{# of outcomes of event}}{\\text{# of outcomes in }\\Omega} $$"
   ]
  },
  {
   "cell_type": "markdown",
   "id": "76376509",
   "metadata": {},
   "source": [
    "In the case of coin-flipping (or any binary process with equally probable outcomes), the denominator can be calculated with $2^n$ (where $n$ is again the number of coin flips), so: $$ \\frac{\\text{# of outcomes of event}}{\\text{# of outcomes in }\\Omega} = \\frac{3}{2^n} = \\frac{3}{2^3} = \\frac{3}{8} = 0.375 $$"
   ]
  },
  {
   "cell_type": "markdown",
   "id": "3d91021a",
   "metadata": {},
   "source": [
    "## Multiple Choice Exercises: Calculate and Select your best solution (Each Question is one Mark)\n",
    "\n",
    "1. What is the probability of drawing the ace of spades twice in a row? (Assume that any card drawn on the first draw will be put back in the deck before the second draw.)\n",
    "\n",
    "A. 0.037%\n",
    "\n",
    "B. 0.050%\n",
    "\n",
    "C. 0.010%\n",
    "\n",
    "D. 0.100%\n",
    "###### Answer is A\n",
    "\n",
    "2. You draw a card from a deck of cards. After replacing the drawn card back in the deck and shuffling thoroughly, what is the probability of drawing the same card again? \n",
    "\n",
    " A. 0.010\n",
    " \n",
    " B. 0.018\n",
    " \n",
    " C. 0.081\n",
    " \n",
    " D. 0.019\n",
    " ##### Answer is D\n",
    "\n",
    "3. Use $n \\choose k$ to calculate the probability of throwing three heads in five coin tosses.\n",
    "\n",
    "A. 0.3125\n",
    "\n",
    "B. 0.5210\n",
    "\n",
    "C. 0.3100\n",
    "\n",
    "D. 0.2135\n",
    "##### Answer is C\n",
    "4.  Which of the following Expressions below correspond to the statement: **the probability that it is Monday given that it is raining**?\n",
    "\n",
    "A. Pr(Monday|rain)\n",
    "\n",
    "B. Pr(rain|Monday)\n",
    "\n",
    "C. Pr(rain|Monday)Pr(Monday)\n",
    "\n",
    "D. Pr(Monday|rain) Pr(rain)/Pr(Monday)\n",
    "##### Answer is A\n",
    "\n",
    "5. Which of the following Expressions below correspond to the statement: **Pr(Monday|rain)**?\n",
    "\n",
    "A. The Probability of rain on Monday\n",
    "\n",
    "B. The Probability of rain given that it is Monday\n",
    "\n",
    "C. The Probability that it is Monday, given that it is raining\n",
    "\n",
    "D. The probability that it is Monday and that it is raining\n",
    "##### Answer is C\n",
    "\n",
    "6. Which of the following Expressions below correspond to the statement: **the probability of rain on Monday**?\n",
    "\n",
    "A. Pr(rain)\n",
    "\n",
    "B. Pr(rain|Monday)\n",
    "\n",
    "C. Pr(Monday|rain)\n",
    "\n",
    "D. Pr(rain, Monday)/Pr(Monday)\n",
    "##### Answer is D\n",
    "7. A professor thinks students who live on campus are more likely to get **A**s in the probability course. To check this theory, the professor combines the data from the past few years. 600 students have taken the course, 120 students have gotten As, 200 students lived on campus, 80 students lived off campus and got As.\n",
    "\n",
    "A. Pr(AnB) = Pr(A)+Pr(B)\n",
    "\n",
    "B. Pr(AnB) = Pr(A) * Pr(B) - Pr(AnB)\n",
    "\n",
    "C. Pr(AnB) = Pr(A) * Pr(B)\n",
    "\n",
    "D. Pr(AnB) = (Pr(A) * Pr(B))/(Pr(B))\n",
    "##### Answer is C\n",
    "\n",
    "8. Does this data suggest that \"getting an A\" and \"living on campus\" are dependent or independent?  \n",
    " \n",
    " A. Agree\n",
    " \n",
    " B. Disagree\n",
    " \n",
    " C. Neutral \n",
    " \n",
    " D. Insufficient Information provided\n",
    " ##### B, they are independent\n",
    "\n",
    "9. Suppose that I want to purchase a smart phone. I can choose either a large or a small screen; a 64GB, 128GB, or 256GB storage capacity, and a black or white cover. \n",
    "\n",
    "(a).How many different options do I have?\n",
    "\n",
    " A. 13\n",
    " \n",
    " B. 0\n",
    " \n",
    " C. 9/10 \n",
    " \n",
    " D. Insufficient Information provided\n",
    " #### Answer is D\n",
    " \n",
    " 10. A block of 100 bits is trasmitted in a binary channel with a probability of bit error **P= 0.002**\n",
    "\n",
    "(a) If the block has 1 or fewer errors,then the receiver accepts the block. What is the **probability** that the block is accepted?\n",
    "\n",
    "A. 0.735\n",
    "\n",
    "B. 0.501\n",
    "\n",
    "C. 0.350\n",
    "\n",
    "D. 0.100\n",
    "#### Answer is C\n",
    "(b) If the block has more that 1 errors, then the block is retrasmitted.\n",
    "What is the **probability** that 4 blocks are trasmitted?\n",
    "\n",
    "(1) 0.013\n",
    "\n",
    "(2) 0.0350\n",
    "\n",
    "(3) 0.430\n",
    "\n",
    "(4) 0.500\n",
    "##### answer is 3\n",
    "\n"
   ]
  },
  {
   "cell_type": "markdown",
   "id": "fb437f2f",
   "metadata": {},
   "source": [
    "## Section 2: Attemppt at least 4 Questions from this section"
   ]
  },
  {
   "cell_type": "markdown",
   "id": "522a0233",
   "metadata": {},
   "source": [
    "### Question 2: Moments of Probability : Expected Value"
   ]
  },
  {
   "cell_type": "markdown",
   "id": "073d63b2",
   "metadata": {},
   "source": [
    "**Exercises**:\n",
    "\n",
    "1. Assuming heads = 1 and tails = 0, what’s the expected value of the toss of a fair coin? \n",
    "2. ...and of two tosses of a fair coin? \n",
    "3. You are one of a thousand people to purchase a lottery ticket. The ticket costs \\\\$10 and pays out \\\\$5000. What value should you expect from this transaction? \n"
   ]
  },
  {
   "cell_type": "markdown",
   "id": "da44ac18",
   "metadata": {},
   "source": [
    "### Question 3: Probability Distributions\n",
    "\n",
    "### a). Binomial Distribution"
   ]
  },
  {
   "cell_type": "markdown",
   "id": "6ff29777",
   "metadata": {},
   "source": [
    "All distributions so far have been for continuous variables (PDFs). This one is discrete (PMF). \n",
    "\n",
    "We've already been using it for coin flips; it's used for binary (0 or 1) outcome. \n",
    "\n",
    "Its parameters are: \n",
    "\n",
    "* *n*: number of trials\n",
    "* *p*: probability of outcome of 1\n",
    "* *size*: number of experiments with *n* trials each"
   ]
  },
  {
   "cell_type": "code",
   "execution_count": 8,
   "id": "4a5fe8de",
   "metadata": {},
   "outputs": [],
   "source": [
    "# Given an experimental setup below\n",
    "\n",
    "n = 5\n",
    "n_experiments = 1000"
   ]
  },
  {
   "cell_type": "markdown",
   "id": "c3cc3d26",
   "metadata": {},
   "source": [
    "#### ... and that we are dealing with a Fair coin (p = 0.5), Then"
   ]
  },
  {
   "cell_type": "code",
   "execution_count": 10,
   "id": "b8ac537a",
   "metadata": {},
   "outputs": [],
   "source": [
    "heads_count = np.random.binomial(n, 0.5, n_experiments)\n",
    "heads, event_count = np.unique(heads_count, return_counts=True)\n",
    "event_proba = event_count/n_experiments"
   ]
  },
  {
   "cell_type": "code",
   "execution_count": 11,
   "id": "9fe230c4",
   "metadata": {},
   "outputs": [
    {
     "data": {
      "image/png": "[encoded data removed]",
      "text/plain": [
       "<Figure size 432x288 with 1 Axes>"
      ]
     },
     "metadata": {
      "needs_background": "light"
     },
     "output_type": "display_data"
    }
   ],
   "source": [
    "import matplotlib.pyplot as plt\n",
    "plt.bar(heads, event_proba, color='mediumpurple')\n",
    "plt.xlabel('Heads flips (out of 5 tosses)')\n",
    "_ = plt.ylabel('Event probability')"
   ]
  },
  {
   "cell_type": "markdown",
   "id": "fe3f3498",
   "metadata": {},
   "source": [
    "Then, Technically, binomial distributions are created by sampling $n>1$ \"Bernoulli trials\". The **Bernoulli** distribution is equivalent to the binomial distribution where $n=1$: "
   ]
  },
  {
   "cell_type": "markdown",
   "id": "1d068328",
   "metadata": {},
   "source": [
    "### and ..."
   ]
  },
  {
   "cell_type": "code",
   "execution_count": 4,
   "id": "761b425c",
   "metadata": {},
   "outputs": [
    {
     "data": {
      "text/plain": [
       "1"
      ]
     },
     "execution_count": 4,
     "metadata": {},
     "output_type": "execute_result"
    }
   ],
   "source": [
    "import numpy as np\n",
    "np.random.binomial(1, 0.5)"
   ]
  },
  {
   "cell_type": "markdown",
   "id": "07593c7e",
   "metadata": {},
   "source": [
    "Select **ALL** possible real-world examples of a binomial distribution basing on its key properties from the list below:\n",
    "\n",
    "* Making it to work on time\n",
    "* Candidate being invited to interview\n",
    "* Epidemiology: probability of death or catching disease\n",
    "* Number of new hires in a month\n",
    "* Extreme weather events, e.g., maximum rainfall in a day\n",
    "* Time between requests to access Wikipedia pages"
   ]
  },
  {
   "cell_type": "code",
   "execution_count": null,
   "id": "225a56c2",
   "metadata": {},
   "outputs": [],
   "source": [
    "## Supply your selections here."
   ]
  },
  {
   "cell_type": "markdown",
   "id": "4b73c918",
   "metadata": {},
   "source": [
    "## b). Poisson Distribution"
   ]
  },
  {
   "cell_type": "markdown",
   "id": "0a4eb102",
   "metadata": {},
   "source": [
    "**Poisson** is a third widely-used distribution for discrete random variables and it's the final distribution we'll cover."
   ]
  },
  {
   "cell_type": "markdown",
   "id": "50c84133",
   "metadata": {},
   "source": [
    "It's named after French mathematician Simeon Denis Poisson and is used for count data, e.g.: \n",
    "\n",
    "Select **ALL** possible real-world examples of a poisson distribution basing on its key properties from the list below:\n",
    "\n",
    "* Number of cars that drive by in a minute\n",
    "* Number of guests at restaurant in an evening\n",
    "* Number of new hires in a month\n",
    "* Child births in the national referral hospital on any particular day\n",
    "* The number of a jupyter notebook to run optimally"
   ]
  },
  {
   "cell_type": "code",
   "execution_count": null,
   "id": "6567781a",
   "metadata": {},
   "outputs": [],
   "source": [
    "## Supply your selections here."
   ]
  },
  {
   "cell_type": "markdown",
   "id": "1c3dcbf6",
   "metadata": {},
   "source": [
    "## c). Gaussian or Normal Distribution\n",
    "\n",
    "Gaussian or Normal distribution is a **standard normal distribution** (a.k.a., standard Gaussian distribution). Normal distributions can be denoted with the *math calligraphy* font as $\\mathcal{N}(\\mu, \\sigma^2)$, thus the standard normal distribution can be denoted as $\\mathcal{N}(0, 1)$. \n",
    "\n",
    "(N.B.: $\\sigma^2 = \\sigma$ in this case because $1^2 = 1$.)"
   ]
  },
  {
   "cell_type": "markdown",
   "id": "45e4cfe8",
   "metadata": {},
   "source": [
    "Normal distributions are by far the most common distribution in statistics and machine learning. They are typically the default option, particularly if you have limited information about the random process you're modeling, because: \n",
    "\n",
    "1. Normal distributions assume the greatest possible uncertainty about the random variable they represent (relative to any other distribution of equivalent variance). Details of this are beyond the scope of this tutorial. \n",
    "2. Simple and very complex random processes alike are, under all common conditions, normally distributed when we sample values from the process. Since we sample data for statistical and machine learning models alike, this so-called **central limit theorem** (covered next) is a critically important concept. "
   ]
  },
  {
   "cell_type": "markdown",
   "id": "57b171b9",
   "metadata": {},
   "source": [
    "Sellect **ALL** Possible real-world examples of a Gaussian Distribution basing on its characteristics: \n",
    "\n",
    "* Probability of heads across *n* tosses (PMF; $n = 5$ earlier, $n = 100$ below)\n",
    "* Sum of di(c)e rolls (PMF)\n",
    "* Height of adult women\n",
    "* Height of adult men\n",
    "* Education test scores, e.g., Mathematical Computing scores you will obtain today\n",
    "* Number of Children ever born \n",
    "* The Spread of COVID-19 disease in a given community"
   ]
  },
  {
   "cell_type": "code",
   "execution_count": null,
   "id": "81248c37",
   "metadata": {},
   "outputs": [],
   "source": [
    "## Supply your selections here."
   ]
  },
  {
   "cell_type": "markdown",
   "id": "c02638ee",
   "metadata": {},
   "source": [
    "# Linear Algebra"
   ]
  },
  {
   "cell_type": "markdown",
   "id": "e16cde38",
   "metadata": {},
   "source": [
    "*Review of Introductory Linear Algebra*\n",
    "\n",
    "* Modern Linear Algebra Applications\n",
    "* Tensors, Vectors, and Norms\n",
    "* Matrix Multiplication\n",
    "* Matrix Inversion\n",
    "* Identity, Diagonal and Orthogonal Matrices\n"
   ]
  },
  {
   "cell_type": "code",
   "execution_count": 7,
   "id": "76697a1f",
   "metadata": {},
   "outputs": [
    {
     "data": {
      "text/plain": [
       "array([1., 1., 1.])"
      ]
     },
     "execution_count": 7,
     "metadata": {},
     "output_type": "execute_result"
    }
   ],
   "source": [
    "# Setup: As an example\n",
    "\n",
    "import numpy as np\n",
    "\n",
    "y = np.ones(3) \n",
    "y"
   ]
  },
  {
   "cell_type": "markdown",
   "id": "580e24ee",
   "metadata": {},
   "source": [
    "### Question 4: Given an n-dim array with enteries: 25, 2, 5;"
   ]
  },
  {
   "cell_type": "markdown",
   "id": "ab348225",
   "metadata": {},
   "source": [
    "* 1. Generate a numpy array x from the given entries\n",
    "* 2. What is the shape of the array x\n",
    "* 3. What is its transpose\n",
    "* 4. Compute its $L^2$ Norm"
   ]
  },
  {
   "cell_type": "markdown",
   "id": "f701cdcd",
   "metadata": {},
   "source": [
    "# number 4 solution"
   ]
  },
  {
   "cell_type": "code",
   "execution_count": 28,
   "id": "c01f8530",
   "metadata": {},
   "outputs": [
    {
     "name": "stdout",
     "output_type": "stream",
     "text": [
      "[[[7.31746852e-312 7.31790159e-312 7.31854153e-312             nan\n",
      "   0.00000000e+000]\n",
      "  [0.00000000e+000 7.31854153e-312 7.31854153e-312 7.29966552e-312\n",
      "   0.00000000e+000]]\n",
      "\n",
      " [[3.95252517e-323             nan 2.90252664e-057 5.08074876e-067\n",
      "   4.44891543e-086]\n",
      "  [1.65529767e-047 4.24790058e-086 6.01760189e-067 4.04683950e-086\n",
      "   2.08928204e-076]]\n",
      "\n",
      " [[3.64468033e-086 8.15940382e-043 5.98156518e-154 2.63263726e-052\n",
      "   4.90747779e-062]\n",
      "  [4.91318552e-062 2.74010398e-057 8.60969368e-067 7.49110334e-067\n",
      "   1.91892275e-076]]\n",
      "\n",
      " [[2.73885937e-057 2.52456021e-052 5.20650429e-090 7.25557262e-043\n",
      "   5.20363154e-090]\n",
      "  [1.24395599e-047 1.21112279e-099 9.15782013e-072 5.20075139e-090\n",
      "   2.99063813e-067]]\n",
      "\n",
      " [[3.11775548e-033 3.00517577e-067 4.75729937e-038 3.00302504e-067\n",
      "   4.47268611e-033]\n",
      "  [4.58555157e-072 9.35011439e-067 2.44260374e-154 2.52619162e-052\n",
      "   2.89457046e-057]]\n",
      "\n",
      " [[6.23012446e-038 2.89457045e-057 8.60825598e-067 3.30672790e-033\n",
      "   1.48575436e-076]\n",
      "  [3.30672798e-033 2.91038314e-033 3.76429994e+179 5.98177008e-154\n",
      "   1.39804329e-076]]\n",
      "\n",
      " [[1.39803697e-076 0.00000000e+000 0.00000000e+000 0.00000000e+000\n",
      "   1.39871115e-076]\n",
      "  [5.98211400e-038 9.05618825e-043 1.68931646e-052 5.20460534e-090\n",
      "   1.89812939e-052]]\n",
      "\n",
      " [[5.20844440e-090 2.00190294e-076 1.21111755e-099 3.53355722e-057\n",
      "   5.20174390e-090]\n",
      "  [4.56335164e-072 1.08464005e-042 8.45477127e-053 3.22177948e-057\n",
      "   4.58334072e-072]]\n",
      "\n",
      " [[1.91722547e-076 4.58553863e-072 7.12310785e-067 2.44370479e-154\n",
      "   1.69381066e-052]\n",
      "  [1.68899161e-052 3.22179401e-057 1.39710112e-076 3.37859698e-057\n",
      "   4.41676394e-062]]\n",
      "\n",
      " [[8.87103183e-314 1.08539798e-071 1.30388021e-076 4.08721944e+179\n",
      "   4.43687459e-038]\n",
      "  [4.08342787e+179 6.77538822e-043 3.92639045e+179 1.03317401e-047\n",
      "   3.75922471e+179]]\n",
      "\n",
      " [[6.01334528e-154 6.75802812e-067 1.65633201e-153 4.42799165e-062\n",
      "   1.87891801e-153]\n",
      "  [1.10924872e-047 1.35799839e-153 1.14350145e-071 1.72416564e-259\n",
      "   7.72147060e-043]]\n",
      "\n",
      " [[7.75261173e-072 8.89429220e+130 2.17766124e-076 6.37980173e-067\n",
      "   1.38213799e-047]\n",
      "  [3.37609614e-057 3.69909932e-057 2.08926780e-076 4.18678948e-062\n",
      "   4.66628295e-062]]\n",
      "\n",
      " [[2.89631802e-057 5.20171406e-090 1.10711043e-047 5.20746680e-090\n",
      "   1.39736850e-076]\n",
      "  [1.21089429e-099 1.42516310e-071 5.20557916e-090 1.55282810e-033\n",
      "   1.40006873e-076]]\n",
      "\n",
      " [[1.29040565e-057 1.79822034e-052 1.56037647e-033 1.48542364e-076\n",
      "   4.59109599e-072]\n",
      "  [6.22899002e-038 2.44370479e-154 7.71098815e-043 1.68899157e-052\n",
      "   1.65502726e-047]]\n",
      "\n",
      " [[1.02835798e-071 1.37099710e-071 9.72202187e-072 3.37611506e-057\n",
      "   1.89698568e-052]\n",
      "  [2.90925466e-033 2.79113403e+179 3.67009670e-062 2.95257151e+179\n",
      "   5.59939859e-067]]\n",
      "\n",
      " [[2.78731521e+179 6.77363663e-043 3.11341048e+179 6.01334526e-154\n",
      "   3.69779429e-033]\n",
      "  [1.35799839e-153 8.16644449e-043 1.43345582e-153 7.49695460e-067\n",
      "   1.80549998e-153]]\n",
      "\n",
      " [[1.20120314e-071 1.31862473e-259 2.74383975e-057 5.08075438e-067\n",
      "   4.86539596e-042]\n",
      "  [3.12076476e-033 8.45473950e-053 4.01273199e-057 3.00882066e-067\n",
      "   1.38294712e-047]]\n",
      "\n",
      " [[3.00592001e-067 1.83053303e-076 2.44296790e-154 5.34965612e-038\n",
      "   7.25416375e-043]\n",
      "  [1.36900646e-071 2.57719667e-057 5.64352522e-038 1.89698568e-052\n",
      "   3.94371767e-062]]\n",
      "\n",
      " [[3.93249003e-062 2.40585675e-057 3.11277723e+179 3.67247054e-062\n",
      "   3.59651843e+179]\n",
      "  [1.30404893e-076 3.92070180e+179 6.76925760e-043 2.78986519e+179\n",
      "   6.01334539e-154]]\n",
      "\n",
      " [[1.10592770e-313 1.43199778e-153 2.11142699e-052 1.35712550e-153\n",
      "   2.58017932e-057]\n",
      "  [1.43258180e-153 6.82129765e-038 1.31672178e-259 4.17822122e-062\n",
      "   8.31857002e-072]]\n",
      "\n",
      " [[3.05685741e-057 1.26931504e-076 7.27480674e-043 1.26931767e-076\n",
      "   6.23009767e-038]\n",
      "  [7.75258571e-072 3.64460955e-086 6.74640853e-067 3.44358857e-086\n",
      "   7.49404531e-067]]\n",
      "\n",
      " [[3.64467429e-086 2.63344974e-052 4.44898937e-086 1.40006740e-076\n",
      "   5.98153664e-154]\n",
      "  [9.50289880e-043 9.50460376e-043 4.90673426e-042 3.12076476e-033\n",
      "   1.96852244e-062]]\n",
      "\n",
      " [[7.26435866e-043 1.29164782e-057 2.21460200e-052 1.29195898e-057\n",
      "   6.81789418e-038]\n",
      "  [2.44188675e-154 1.45109635e-047 1.79339649e-052 8.16294796e-043\n",
      "   5.33953990e-038]]\n",
      "\n",
      " [[1.39804328e-076 1.39642638e-076 4.08599538e-033 8.14749155e-043\n",
      "   6.76925730e-043]\n",
      "  [3.11340053e+179 1.30371160e-076 3.92195335e+179 1.57711019e-052\n",
      "   3.43948342e+179]]\n",
      "\n",
      " [[1.03370856e-047 3.27803360e+179 6.01334519e-154 1.20076614e-071\n",
      "   1.35799839e-153]\n",
      "  [2.21419738e-052 1.35799952e-153 2.73825603e-057 1.65720491e-153\n",
      "   1.03008697e-071]]]\n"
     ]
    }
   ],
   "source": [
    "import numpy as np\n",
    "#Numpy array x\n",
    "X = np.ndarray([25,2,5])\n",
    "print(X)\n",
    "\n"
   ]
  },
  {
   "cell_type": "code",
   "execution_count": 30,
   "id": "8907a5ab",
   "metadata": {},
   "outputs": [
    {
     "data": {
      "text/plain": [
       "(25, 2, 5)"
      ]
     },
     "execution_count": 30,
     "metadata": {},
     "output_type": "execute_result"
    }
   ],
   "source": [
    "#numpy shape\n",
    "X = np.ndarray([25,2,5])\n",
    "X.shape"
   ]
  },
  {
   "cell_type": "code",
   "execution_count": 27,
   "id": "8fbc6974",
   "metadata": {},
   "outputs": [
    {
     "name": "stdout",
     "output_type": "stream",
     "text": [
      "[[[7.31790347e-312 3.95252517e-323 1.38692357e+219 4.82406555e+228\n",
      "   6.03104186e-154 5.37592902e+199 4.45036180e+217 2.15042227e-259\n",
      "   9.05795898e-043 7.20643341e-314 9.31672791e+242 8.28860126e-114\n",
      "   4.85787506e-033 3.07317013e-027 1.26054961e+232 3.01478100e-110\n",
      "   2.11750099e+214 2.05610081e+291 2.45789797e-154 1.08765925e-313\n",
      "   1.42853558e+248 6.43581877e+246 5.35721112e+199 7.04101559e+199\n",
      "   9.92132497e+247]\n",
      "  [0.00000000e+000 2.67978223e-080 1.10901207e+200 8.19148733e+247\n",
      "   1.05235154e-153 3.25266768e-086 2.70639601e+175 5.64351191e-038\n",
      "   1.57630872e-052 5.83439443e+252 1.06303600e+224 1.39804329e-076\n",
      "   1.69053527e-052 6.99442788e-009 1.25548964e+232 6.95287326e-310\n",
      "   2.04740679e+161 2.86150919e+132 8.70898498e-153 3.65711017e+194\n",
      "   4.37882272e+156 1.10872381e+219 2.32160604e-152 1.08444196e+155\n",
      "   1.81786186e+185]]\n",
      "\n",
      " [[7.31790159e-312 6.01346930e-154 5.29874766e+180 3.64913061e+233\n",
      "   4.24783911e-086 1.06181217e-153 0.00000000e+000 2.91997395e-014\n",
      "   9.51516008e-043 4.24399158e-314 9.17653101e+199 1.65172584e-076\n",
      "   3.22179411e-057 1.10868801e+219 8.29815549e-114 6.51546336e+252\n",
      "   6.96719881e+199 2.35287072e+251 1.27285021e-104 6.79038653e-313\n",
      "   2.31633990e-152 8.73762721e+183 1.39564283e-258 4.77295198e+180\n",
      "   4.91437017e+252]\n",
      "  [7.31854090e-312 5.35160949e+199 2.80086461e-085 2.92552507e-014\n",
      "   8.54289868e-072 1.10818797e-047 4.44387685e+252 3.89038727e-033\n",
      "   4.46590643e-033 7.35423706e+223 3.03422808e-086 1.70086761e-139\n",
      "   4.46664700e-033 2.93494597e+222 1.05020420e-153 1.15067889e-320\n",
      "   6.01334541e-154 3.03426184e-086 2.90700178e-014 5.35815010e+199\n",
      "   2.31463022e-152 1.46923442e+195 2.45123995e+198 6.16830600e-114\n",
      "   2.72157670e+257]]\n",
      "\n",
      " [[7.31854090e-312 3.92573072e-027 4.82406555e+228 4.47593784e-091\n",
      "   2.25563599e-153 1.84279020e+280 0.00000000e+000 7.87596779e+276\n",
      "   1.70292253e-139 1.08818228e+248 6.50944385e+252 7.61949694e-010\n",
      "   3.02875119e-152 3.99255566e+252 2.32501489e-086 6.99732116e-308\n",
      "   2.31463926e-152 3.99999835e+252 9.47836453e-076 9.74298916e-154\n",
      "   1.14115382e+243 1.27423024e+161 1.14303493e+243 3.02907771e-152\n",
      "   3.11078548e+161]\n",
      "  [7.31854090e-312 3.02023297e-086 6.55703448e+199 2.59345444e+161\n",
      "   1.05235154e-153 6.12861076e-062 2.60988270e+180 2.04739493e+161\n",
      "   1.70127923e-139 7.10084060e+194 1.67869760e-076 9.31464699e+242\n",
      "   1.70252213e-139 2.31284990e+161 6.99416046e-009             nan\n",
      "   5.81378107e+257 8.70802919e-153 5.98176995e-154 2.04748214e+161\n",
      "   1.31938871e+113 4.72094421e+164 1.21698273e-152 1.09918035e+155\n",
      "   4.70102441e+180]]\n",
      "\n",
      " [[3.45248934e-085 2.61625519e+209 6.01346953e-154 7.04134414e-009\n",
      "   1.33733641e+160 1.35717430e+131 0.00000000e+000 6.99416161e-009\n",
      "   9.31464699e+242 1.28012643e-152 5.76204587e+228 1.92670805e-057\n",
      "   7.04134519e-009 2.96174557e-085 1.25548964e+232 3.30531377e-202\n",
      "   3.01471692e+161 2.66532332e-260 1.12547821e-153 5.84496307e-101\n",
      "   2.04746601e+161 6.02202139e+175 1.96253278e+243 7.34173657e+223\n",
      "   1.17339159e+214]\n",
      "  [1.78495573e+161 2.60339101e+209 1.38692357e+219 1.05118618e-153\n",
      "   7.61402136e-010 2.48104786e-091 1.10639070e+200 7.70506494e-010\n",
      "   9.31464699e+242 1.69375270e+190 6.13328149e+228 6.27200198e-061\n",
      "   9.31464699e+242 5.53288488e-048 3.39092282e+214 3.37394338e+257\n",
      "   1.45790338e+147 8.18233139e+140 5.98150244e-154 1.33856865e-152\n",
      "   9.78774671e-153 2.43580036e-152 1.14511380e+243 1.27124315e+232\n",
      "   1.52394767e-258]]\n",
      "\n",
      " [[0.00000000e+000 3.59850298e+227 1.15051351e+248 2.44001263e-152\n",
      "   3.28882408e-086 3.94181858e-062 5.04620501e+180 3.52286671e-110\n",
      "   6.54827561e-114 2.15232772e-259 5.28595560e-085 1.40073945e-076\n",
      "   1.57670870e-052 7.22937891e+159 3.54769045e-091 0.00000000e+000\n",
      "   6.99196216e+228 7.79165389e+140 8.91870736e-106 2.17234807e-153\n",
      "   4.36420320e+154 3.28095932e-085 1.27731744e-152 5.02064272e+276\n",
      "   5.03403489e+223]\n",
      "  [0.00000000e+000 1.05835773e-153 5.29874864e+180 1.30388024e-076\n",
      "   2.93494607e+222 8.98065957e-067 1.47039297e+224 1.57650499e-052\n",
      "   5.99006363e-090 3.03422818e-086 5.28599595e-085 3.25260014e-086\n",
      "   1.49791587e+248 7.61382152e-010 3.02259273e-110 0.00000000e+000\n",
      "   2.46663611e+204 8.78028172e-153 1.43693783e-105 1.82159989e+185\n",
      "   3.17095864e+180 6.63222825e+265 1.27734658e-152 1.14448054e+243\n",
      "   3.02875119e-152]]]\n"
     ]
    }
   ],
   "source": [
    "#transpose of x\n",
    "X = np.ndarray([25,2,5])\n",
    "print(X.T)"
   ]
  },
  {
   "cell_type": "code",
   "execution_count": 26,
   "id": "230417b9",
   "metadata": {},
   "outputs": [
    {
     "data": {
      "text/plain": [
       "array([2.70514621e-156, 0.00000000e+000, 9.43457316e-154])"
      ]
     },
     "execution_count": 26,
     "metadata": {},
     "output_type": "execute_result"
    }
   ],
   "source": [
    "# l*2 norm\n",
    "np.sqrt(X)"
   ]
  },
  {
   "cell_type": "code",
   "execution_count": null,
   "id": "8597cb01",
   "metadata": {},
   "outputs": [],
   "source": []
  },
  {
   "cell_type": "markdown",
   "id": "9855e846",
   "metadata": {},
   "source": [
    "## Question 5: Given an n-darray X = np.array([[25, 2], [5, 26], [3, 7]])"
   ]
  },
  {
   "cell_type": "markdown",
   "id": "13efde54",
   "metadata": {},
   "source": [
    "* 1. Generate its shape\n",
    "* 2. What is the transpose of the array\n",
    "* 3. Generate a new n-darray of X scaled up by integer 3 (Hint: note that scalars are applied on each element of a matrix)\n",
    "* 4. Generate a new matrix A = ([[3, 4], [5, 6], [7, 8]]). Compute the matrix multiplication of matrices X and A (note the condition for matrix multiplication must satisfy a certain rule)\n",
    "* 5. Compute the inverse of the result of multiplication of matrices (A and X)"
   ]
  },
  {
   "cell_type": "markdown",
   "id": "7ff94ea3",
   "metadata": {},
   "source": [
    "# number five"
   ]
  },
  {
   "cell_type": "code",
   "execution_count": 17,
   "id": "6e46d751",
   "metadata": {},
   "outputs": [
    {
     "name": "stdout",
     "output_type": "stream",
     "text": [
      "[[25  2]\n",
      " [ 5 26]\n",
      " [ 3  7]]\n"
     ]
    }
   ],
   "source": [
    "#nd array\n",
    "X = np.array([[25, 2], [5, 26], [3, 7]])\n",
    "print(X)"
   ]
  },
  {
   "cell_type": "code",
   "execution_count": 22,
   "id": "432e619b",
   "metadata": {},
   "outputs": [
    {
     "data": {
      "text/plain": [
       "(3, 2)"
      ]
     },
     "execution_count": 22,
     "metadata": {},
     "output_type": "execute_result"
    }
   ],
   "source": [
    "#shape\n",
    "X = np.array([[25, 2], [5, 26], [3, 7]])\n",
    "X.shape"
   ]
  },
  {
   "cell_type": "code",
   "execution_count": 23,
   "id": "438e363a",
   "metadata": {},
   "outputs": [
    {
     "data": {
      "text/plain": [
       "array([[25,  5,  3],\n",
       "       [ 2, 26,  7]])"
      ]
     },
     "execution_count": 23,
     "metadata": {},
     "output_type": "execute_result"
    }
   ],
   "source": [
    "#Transpose\n",
    "X = np.array([[25, 2], [5, 26], [3, 7]])\n",
    "X.T"
   ]
  },
  {
   "cell_type": "code",
   "execution_count": 25,
   "id": "1eb50bdd",
   "metadata": {},
   "outputs": [
    {
     "data": {
      "text/plain": [
       "array([7.31781600e-312, 0.00000000e+000, 8.90111707e-307])"
      ]
     },
     "execution_count": 25,
     "metadata": {},
     "output_type": "execute_result"
    }
   ],
   "source": [
    "#ndarray of integer 3\n",
    "X = np.ndarray(3)\n",
    "X"
   ]
  },
  {
   "cell_type": "code",
   "execution_count": 35,
   "id": "b8e4704d",
   "metadata": {},
   "outputs": [
    {
     "name": "stdout",
     "output_type": "stream",
     "text": [
      "[[3 4]\n",
      " [5 6]\n",
      " [7 8]]\n"
     ]
    }
   ],
   "source": [
    "#New matrix A\n",
    "A = np.array([[3, 4], [5, 6], [7, 8]])\n",
    "print(A)"
   ]
  },
  {
   "cell_type": "code",
   "execution_count": 49,
   "id": "5389e95e",
   "metadata": {},
   "outputs": [
    {
     "name": "stdout",
     "output_type": "stream",
     "text": [
      "[[3 5 7]\n",
      " [4 6 8]]\n",
      "[[2.54639495e-313 6.36598737e-313 1.18831764e-312]\n",
      " [3.39519327e-313 7.63918485e-313 1.35807731e-312]]\n"
     ]
    }
   ],
   "source": [
    "#multiplication of \n",
    "X = np.ndarray(3)\n",
    "A = np.array([[3, 4], [5, 6], [7, 8]])\n",
    "#transpose of A\n",
    "Y = A.T\n",
    "print(Y)\n",
    "#multiplication\n",
    "K =  X*Y\n",
    "print(K)\n",
    "\n"
   ]
  },
  {
   "cell_type": "code",
   "execution_count": 50,
   "id": "19a28702",
   "metadata": {},
   "outputs": [
    {
     "data": {
      "text/plain": [
       "array([[2.54639495e-313, 3.39519327e-313],\n",
       "       [6.36598737e-313, 7.63918485e-313],\n",
       "       [1.18831764e-312, 1.35807731e-312]])"
      ]
     },
     "execution_count": 50,
     "metadata": {},
     "output_type": "execute_result"
    }
   ],
   "source": [
    "#product transpose\n",
    "K.T"
   ]
  },
  {
   "cell_type": "code",
   "execution_count": null,
   "id": "56dc17af",
   "metadata": {},
   "outputs": [],
   "source": []
  },
  {
   "cell_type": "markdown",
   "id": "324380e7",
   "metadata": {},
   "source": [
    "## Question 6: Construct a matrix below ; \n",
    "\n",
    "$$\\left[\\begin{array}{ccc} 1 & 0.2 & 0.5 \\\\ 0.2 & 1 & 0.8 \\\\ 0.5 & 0.8 & 1 \\end{array}\\right]$$\n",
    "\n",
    "as a NumPy array.\n",
    "\n",
    "\n",
    "(a). Compute an Inversion of the matrix **Transpose** \n",
    "\n",
    "(b). Computer the **determinant** of the matrix if possible "
   ]
  },
  {
   "cell_type": "markdown",
   "id": "60d0c6a4",
   "metadata": {},
   "source": [
    "# Number 6 solutions"
   ]
  },
  {
   "cell_type": "code",
   "execution_count": 52,
   "id": "16595d0a",
   "metadata": {},
   "outputs": [
    {
     "data": {
      "text/plain": [
       "array([[1. , 0.2, 0.5],\n",
       "       [0.2, 1. , 0.8],\n",
       "       [0.5, 0.8, 1. ]])"
      ]
     },
     "execution_count": 52,
     "metadata": {},
     "output_type": "execute_result"
    }
   ],
   "source": [
    "#Question 6\n",
    "Z = np.array([[1,0.2,0.5],[0.2,1,0.8],[0.5,0.8,1]])\n",
    "Z"
   ]
  },
  {
   "cell_type": "code",
   "execution_count": 58,
   "id": "38fdcd60",
   "metadata": {},
   "outputs": [
    {
     "name": "stdout",
     "output_type": "stream",
     "text": [
      "[[  5.39130435   8.69565217 -11.13043478]\n",
      " [  8.69565217  20.65217391 -23.91304348]\n",
      " [-11.13043478 -23.91304348  28.86956522]]\n"
     ]
    }
   ],
   "source": [
    "#Transpose of Z\n",
    "ZtZ = np.dot(Z.T, Z)#Z transpose of Z\n",
    "ZtZ\n",
    "#Inverse of ZtZ\n",
    "ZtZinv = np.linalg.inv(ZtZ)#inverse of the transpose\n",
    "print(ZtZinv)"
   ]
  },
  {
   "cell_type": "markdown",
   "id": "13b15593",
   "metadata": {},
   "source": [
    "## Optional Section: Attempting these extra questions yields extra marks as indicated in the brackets"
   ]
  },
  {
   "cell_type": "markdown",
   "id": "582be06c",
   "metadata": {},
   "source": [
    "## 7. Compute the Mean, variance, median, mode of a uniform random variable (10 marks)"
   ]
  },
  {
   "cell_type": "code",
   "execution_count": null,
   "id": "03ea6f1e",
   "metadata": {},
   "outputs": [],
   "source": []
  },
  {
   "cell_type": "markdown",
   "id": "2b1b6842",
   "metadata": {},
   "source": [
    "## GOOD LUCK "
   ]
  },
  {
   "cell_type": "code",
   "execution_count": null,
   "id": "151d25c9",
   "metadata": {},
   "outputs": [],
   "source": []
  }
 ],
 "metadata": {
  "kernelspec": {
   "display_name": "Python 3 (ipykernel)",
   "language": "python",
   "name": "python3"
  },
  "language_info": {
   "codemirror_mode": {
    "name": "ipython",
    "version": 3
   },
   "file_extension": ".py",
   "mimetype": "text/x-python",
   "name": "python",
   "nbconvert_exporter": "python",
   "pygments_lexer": "ipython3",
   "version": "3.10.5"
  }
 },
 "nbformat": 4,
 "nbformat_minor": 5
}
